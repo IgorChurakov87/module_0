{
 "cells": [
  {
   "cell_type": "code",
   "execution_count": 11,
   "metadata": {},
   "outputs": [
    {
     "name": "stdout",
     "output_type": "stream",
     "text": [
      "Ваш алгоритм угадывает число в среднем за 5 попыток\n"
     ]
    },
    {
     "data": {
      "text/plain": [
       "5"
      ]
     },
     "execution_count": 11,
     "metadata": {},
     "output_type": "execute_result"
    }
   ],
   "source": [
    "import numpy as np\n",
    "       \n",
    "def game_core_v2(number):\n",
    "    '''Изначально устанавливаем любое random число (predict), а потом уменьшаем или\n",
    "       увеличиваем его в зависимости от того, больше оно или меньше нужного.\n",
    "       Функция принимает загаданное число и возвращает число попыток'''\n",
    "    predict = np.random.randint(100) \n",
    "    count = 0 \n",
    "    low = 0 # нижняя граница поиска\n",
    "    high = 100 # верхняя граница поиска\n",
    "    while number != predict and low <= high:   \n",
    "        if number > predict:\n",
    "            low=predict + 1\n",
    "        elif number < predict:\n",
    "            high=predict - 1    \n",
    "        predict=(low+high) // 2\n",
    "        count +=1 # считаем количество попыток отгадать  \n",
    "    \n",
    "    return(count)\n",
    "\n",
    "\n",
    "def score_game(game_core_v2):\n",
    "    '''Запускаем игру 1000 раз, чтобы узнать, как быстро игра угадывает число'''\n",
    "    count_ls = []\n",
    "    np.random.seed(1)  # фиксируем RANDOM SEED, чтобы ваш эксперимент был воспроизводим!\n",
    "    random_array = np.random.randint(100, size=(1000)) #загаданное число number\n",
    "    for number in random_array:\n",
    "        count_ls.append(game_core_v2(number))\n",
    "    \n",
    "    score = int(np.mean(count_ls))\n",
    "    print(f\"Ваш алгоритм угадывает число в среднем за {score} попыток\")\n",
    "    \n",
    "    return (score)\n",
    "    \n",
    "    \n",
    "score_game(game_core_v2) # Проверяем "
   ]
  }
 ],
 "metadata": {
  "kernelspec": {
   "display_name": "Python 3",
   "language": "python",
   "name": "python3"
  },
  "language_info": {
   "codemirror_mode": {
    "name": "ipython",
    "version": 3
   },
   "file_extension": ".py",
   "mimetype": "text/x-python",
   "name": "python",
   "nbconvert_exporter": "python",
   "pygments_lexer": "ipython3",
   "version": "3.7.6"
  }
 },
 "nbformat": 4,
 "nbformat_minor": 4
}
